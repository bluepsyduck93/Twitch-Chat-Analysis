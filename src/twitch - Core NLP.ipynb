{
 "cells": [
  {
   "cell_type": "code",
   "execution_count": 2,
   "metadata": {},
   "outputs": [
    {
     "name": "stdout",
     "output_type": "stream",
     "text": [
      "Requirement already satisfied: pycorenlp in c:\\programdata\\anaconda3\\lib\\site-packages (0.3.0)\n",
      "Requirement already satisfied: requests in c:\\programdata\\anaconda3\\lib\\site-packages (from pycorenlp) (2.22.0)\n",
      "Requirement already satisfied: urllib3!=1.25.0,!=1.25.1,<1.26,>=1.21.1 in c:\\programdata\\anaconda3\\lib\\site-packages (from requests->pycorenlp) (1.24.2)\n",
      "Requirement already satisfied: idna<2.9,>=2.5 in c:\\programdata\\anaconda3\\lib\\site-packages (from requests->pycorenlp) (2.8)\n",
      "Requirement already satisfied: certifi>=2017.4.17 in c:\\programdata\\anaconda3\\lib\\site-packages (from requests->pycorenlp) (2019.9.11)\n",
      "Requirement already satisfied: chardet<3.1.0,>=3.0.2 in c:\\programdata\\anaconda3\\lib\\site-packages (from requests->pycorenlp) (3.0.4)\n",
      "Note: you may need to restart the kernel to use updated packages.\n"
     ]
    }
   ],
   "source": [
    "pip install pycorenlp\n"
   ]
  },
  {
   "cell_type": "code",
   "execution_count": 16,
   "metadata": {},
   "outputs": [],
   "source": [
    "import io\n",
    "import re\n",
    "import string\n",
    "import math\n",
    "import nltk\n",
    "import collections\n",
    "import random\n",
    "import numpy as np\n",
    "import plotly\n",
    "import chart_studio.plotly as py\n",
    "from pycorenlp import StanfordCoreNLP\n",
    "from collections import Counter\n",
    "nlp = StanfordCoreNLP('http://localhost:9000')"
   ]
  },
  {
   "cell_type": "code",
   "execution_count": 4,
   "metadata": {},
   "outputs": [],
   "source": [
    "finalswords = []\n",
    "finalslines = []\n",
    "with io.open(\"riotgamesfinal.log\", \"r\", encoding=\"utf-8\") as f :\n",
    "    lines = f.read().split('\\n')\n",
    "    for line in lines:\n",
    "        l = line.split(' ')[2:]\n",
    "        finalslines.append(' '.join(l))\n",
    "        for word in l:\n",
    "            finalswords.append(word)\n",
    "    finalscount = collections.Counter(w.lower() for w in finalswords)"
   ]
  },
  {
   "cell_type": "code",
   "execution_count": 5,
   "metadata": {},
   "outputs": [],
   "source": [
    "dliftwords = []\n",
    "dliftlines = []\n",
    "with io.open(\"dlift1.log\", \"r\", encoding=\"utf-8\") as f :\n",
    "    lines = f.read().split('\\n')\n",
    "    for line in lines:\n",
    "        l = line.split(' ')[2:]\n",
    "        dliftlines.append(' '.join(l))\n",
    "        for word in l:\n",
    "            dliftwords.append(word)\n",
    "with io.open(\"dlift2.log\", \"r\", encoding=\"utf-8\") as f :\n",
    "    lines = f.read().split('\\n')\n",
    "    for line in lines:\n",
    "        l = line.split(' ')[2:]\n",
    "        dliftlines.append(' '.join(l))\n",
    "        for word in l:\n",
    "            dliftwords.append(word)\n",
    "with io.open(\"dlift3.log\", \"r\", encoding=\"utf-8\") as f :\n",
    "    lines = f.read().split('\\n')\n",
    "    for line in lines:\n",
    "        l = line.split(' ')[2:]\n",
    "        dliftlines.append(' '.join(l))\n",
    "        for word in l:\n",
    "            dliftwords.append(word)\n",
    "with io.open(\"dlift4.log\", \"r\", encoding=\"utf-8\") as f :\n",
    "    lines = f.read().split('\\n')\n",
    "    for line in lines:\n",
    "        l = line.split(' ')[2:]\n",
    "        dliftlines.append(' '.join(l))\n",
    "        for word in l:\n",
    "            dliftwords.append(word)\n",
    "with io.open(\"dlift5.log\", \"r\", encoding=\"utf-8\") as f :\n",
    "    lines = f.read().split('\\n')\n",
    "    for line in lines:\n",
    "        l = line.split(' ')[2:]\n",
    "        dliftlines.append(' '.join(l))\n",
    "        for word in l:\n",
    "            dliftwords.append(word)\n",
    "with io.open(\"dlift6.log\", \"r\", encoding=\"utf-8\") as f :\n",
    "    lines = f.read().split('\\n')\n",
    "    for line in lines:\n",
    "        l = line.split(' ')[2:]\n",
    "        dliftlines.append(' '.join(l))\n",
    "        for word in l:\n",
    "            dliftwords.append(word)\n",
    "with io.open(\"dlift7.log\", \"r\", encoding=\"utf-8\") as f :\n",
    "    lines = f.read().split('\\n')\n",
    "    for line in lines:\n",
    "        l = line.split(' ')[2:]\n",
    "        dliftlines.append(' '.join(l))\n",
    "        for word in l:\n",
    "            dliftwords.append(word)\n",
    "with io.open(\"dlift8.log\", \"r\", encoding=\"utf-8\") as f :\n",
    "    lines = f.read().split('\\n')\n",
    "    for line in lines:\n",
    "        l = line.split(' ')[2:]\n",
    "        dliftlines.append(' '.join(l))\n",
    "        for word in l:\n",
    "            dliftwords.append(word)\n",
    "with io.open(\"dlift9.log\", \"r\", encoding=\"utf-8\") as f :\n",
    "    lines = f.read().split('\\n')\n",
    "    for line in lines:\n",
    "        l = line.split(' ')[2:]\n",
    "        dliftlines.append(' '.join(l))\n",
    "        for word in l:\n",
    "            dliftwords.append(word)\n",
    "with io.open(\"dlift10.log\", \"r\", encoding=\"utf-8\") as f :\n",
    "    lines = f.read().split('\\n')\n",
    "    for line in lines:\n",
    "        l = line.split(' ')[2:]\n",
    "        dliftlines.append(' '.join(l))\n",
    "        for word in l:\n",
    "            dliftwords.append(word)           \n",
    "dliftcount = collections.Counter(w.lower() for w in dliftwords)"
   ]
  },
  {
   "cell_type": "code",
   "execution_count": 6,
   "metadata": {},
   "outputs": [],
   "source": [
    "pokewords = []\n",
    "pokelines = []\n",
    "with io.open(\"pokemon.log\", \"r\", encoding=\"utf-8\") as f :\n",
    "    lines = f.read().split('\\n')\n",
    "    for line in lines:\n",
    "        l = line.split(' ')[2:]\n",
    "        pokelines.append(' '.join(l))\n",
    "        for word in l:\n",
    "            pokewords.append(word)           \n",
    "pokecount = collections.Counter(w.lower() for w in pokewords)"
   ]
  },
  {
   "cell_type": "code",
   "execution_count": 7,
   "metadata": {},
   "outputs": [
    {
     "name": "stdout",
     "output_type": "stream",
     "text": [
      "[('lul', 48094), ('eu', 30777), ('g2', 27694), ('na', 25999), ('lulw', 24428), ('brainslug', 23237), ('free', 17079), ('pog', 16169), ('is', 14900), ('so', 14897), ('go', 13352), ('why', 12875), ('tsm', 12206), ('the', 12057), ('this', 10968), ('to', 10957), ('hong', 10774), ('kong', 10240), ('peped', 9701), ('residentsleeper', 9210)]\n"
     ]
    }
   ],
   "source": [
    "print(finalscount.most_common(20))"
   ]
  },
  {
   "cell_type": "code",
   "execution_count": 8,
   "metadata": {},
   "outputs": [
    {
     "name": "stdout",
     "output_type": "stream",
     "text": [
      "[('is', 8718), ('lul', 8102), ('pog', 7850), ('the', 7476), ('lulw', 7432), ('kekw', 7353), ('you', 6221), ('i', 5923), ('to', 4857), ('a', 4693), ('in', 4454), ('@doublelift', 4234), ('and', 3548), ('for', 3426), ('that', 2813), ('no', 2659), ('he', 2598), ('on', 2563), ('it', 2555), ('this', 2406)]\n"
     ]
    }
   ],
   "source": [
    "print(dliftcount.most_common(20))"
   ]
  },
  {
   "cell_type": "code",
   "execution_count": 9,
   "metadata": {},
   "outputs": [
    {
     "name": "stdout",
     "output_type": "stream",
     "text": [
      "[('lul', 13265), ('sourpls', 10590), ('pogchamp', 10005), ('biblethump', 6313), ('is', 5807), ('the', 5231), ('to', 4925), ('kreygasm', 4801), ('i', 4622), ('my', 4238), ('them', 3678), ('monkas', 3652), ('d:', 3411), ('no', 2729), ('was', 2599), ('ᴛᴏ', 2533), ('like', 2191), ('a', 2181), ('catch', 2103), ('be', 2089)]\n"
     ]
    }
   ],
   "source": [
    "print(pokecount.most_common(20))"
   ]
  },
  {
   "cell_type": "code",
   "execution_count": 10,
   "metadata": {},
   "outputs": [],
   "source": [
    "def overlap(c1, c2):\n",
    "    return collections.Counter({w: min(c1[w], c2[w])\n",
    "                                for w in c1\n",
    "                                if w in c2})"
   ]
  },
  {
   "cell_type": "code",
   "execution_count": 13,
   "metadata": {},
   "outputs": [
    {
     "data": {
      "text/plain": [
       "[('is', 8718),\n",
       " ('lul', 8102),\n",
       " ('pog', 7850),\n",
       " ('the', 7476),\n",
       " ('lulw', 7432),\n",
       " ('to', 4857),\n",
       " ('a', 4693),\n",
       " ('i', 4528),\n",
       " ('in', 4454),\n",
       " ('for', 3426),\n",
       " ('kekw', 3009),\n",
       " ('you', 2893),\n",
       " ('and', 2727),\n",
       " ('no', 2659),\n",
       " ('it', 2555),\n",
       " ('this', 2406),\n",
       " ('of', 2387),\n",
       " ('pogu', 2373),\n",
       " ('so', 2252),\n",
       " ('are', 2187)]"
      ]
     },
     "execution_count": 13,
     "metadata": {},
     "output_type": "execute_result"
    }
   ],
   "source": [
    "overlap(finalscount, dliftcount).most_common(20)"
   ]
  },
  {
   "cell_type": "code",
   "execution_count": 15,
   "metadata": {},
   "outputs": [
    {
     "data": {
      "text/plain": [
       "[('lul', 13265),\n",
       " ('pogchamp', 8194),\n",
       " ('is', 5807),\n",
       " ('the', 5231),\n",
       " ('to', 4925),\n",
       " ('biblethump', 4758),\n",
       " ('i', 4528),\n",
       " ('kreygasm', 3546),\n",
       " ('no', 2729),\n",
       " ('a', 2181),\n",
       " ('was', 1868),\n",
       " ('it', 1727),\n",
       " ('my', 1623),\n",
       " ('you', 1357),\n",
       " ('residentsleeper', 1297),\n",
       " ('in', 1262),\n",
       " ('best', 1219),\n",
       " ('4head', 1187),\n",
       " ('this', 1174),\n",
       " ('f', 1167)]"
      ]
     },
     "execution_count": 15,
     "metadata": {},
     "output_type": "execute_result"
    }
   ],
   "source": [
    "overlap(finalscount, pokecount).most_common(20)"
   ]
  },
  {
   "cell_type": "code",
   "execution_count": 45,
   "metadata": {},
   "outputs": [],
   "source": [
    "annotatedfinals = [] \n",
    "for line in finalslines:\n",
    "    annotatedfinals.append(nlp.annotate(line, properties={\n",
    "                       'annotators': 'sentiment',\n",
    "                       'outputFormat': 'json',\n",
    "                       'timeout': 1000,\n",
    "                   }))"
   ]
  },
  {
   "cell_type": "code",
   "execution_count": null,
   "metadata": {},
   "outputs": [],
   "source": [
    "print (annotatedfinals[1])"
   ]
  },
  {
   "cell_type": "code",
   "execution_count": 46,
   "metadata": {},
   "outputs": [],
   "source": [
    "annotateddlift = [] \n",
    "for line in dliftlines:\n",
    "    annotateddlift.append(nlp.annotate(line, properties={\n",
    "                       'annotators': 'sentiment',\n",
    "                       'outputFormat': 'json',\n",
    "                       'timeout': 1000,\n",
    "                   }))"
   ]
  },
  {
   "cell_type": "code",
   "execution_count": null,
   "metadata": {},
   "outputs": [],
   "source": [
    "# annotatedfaker = [] \n",
    "# for line in fakerlines:\n",
    "#     annotatedfaker.append(nlp.annotate(line, properties={\n",
    "#                        'annotators': 'sentiment',\n",
    "#                        'outputFormat': 'json',\n",
    "#                        'timeout': 1000,\n",
    "#                    }))"
   ]
  },
  {
   "cell_type": "code",
   "execution_count": 49,
   "metadata": {},
   "outputs": [],
   "source": [
    "annotatedpoke = [] \n",
    "for line in pokelines:\n",
    "    annotatedpoke.append(nlp.annotate(line, properties={\n",
    "                       'annotators': 'sentiment',\n",
    "                       'outputFormat': 'json',\n",
    "                       'timeout': 1000,\n",
    "                   }))"
   ]
  },
  {
   "cell_type": "code",
   "execution_count": 149,
   "metadata": {},
   "outputs": [],
   "source": [
    "def sentimentcount(c1):\n",
    "    print(Counter(c1['sentences']['sentiment'].keys()))"
   ]
  },
  {
   "cell_type": "code",
   "execution_count": 150,
   "metadata": {},
   "outputs": [
    {
     "ename": "TypeError",
     "evalue": "list indices must be integers or slices, not str",
     "output_type": "error",
     "traceback": [
      "\u001b[1;31m---------------------------------------------------------------------------\u001b[0m",
      "\u001b[1;31mTypeError\u001b[0m                                 Traceback (most recent call last)",
      "\u001b[1;32m<ipython-input-150-e12d2109fa79>\u001b[0m in \u001b[0;36m<module>\u001b[1;34m\u001b[0m\n\u001b[1;32m----> 1\u001b[1;33m \u001b[0msentimentcount\u001b[0m\u001b[1;33m(\u001b[0m\u001b[0mannotatedpoke\u001b[0m\u001b[1;33m)\u001b[0m\u001b[1;33m\u001b[0m\u001b[1;33m\u001b[0m\u001b[0m\n\u001b[0m",
      "\u001b[1;32m<ipython-input-149-c3936043b5b3>\u001b[0m in \u001b[0;36msentimentcount\u001b[1;34m(c1)\u001b[0m\n\u001b[0;32m      1\u001b[0m \u001b[1;32mdef\u001b[0m \u001b[0msentimentcount\u001b[0m\u001b[1;33m(\u001b[0m\u001b[0mc1\u001b[0m\u001b[1;33m)\u001b[0m\u001b[1;33m:\u001b[0m\u001b[1;33m\u001b[0m\u001b[1;33m\u001b[0m\u001b[0m\n\u001b[1;32m----> 2\u001b[1;33m     \u001b[0mprint\u001b[0m\u001b[1;33m(\u001b[0m\u001b[0mCounter\u001b[0m\u001b[1;33m(\u001b[0m\u001b[0mc1\u001b[0m\u001b[1;33m[\u001b[0m\u001b[1;34m'sentences'\u001b[0m\u001b[1;33m]\u001b[0m\u001b[1;33m[\u001b[0m\u001b[1;34m'sentiment'\u001b[0m\u001b[1;33m]\u001b[0m\u001b[1;33m.\u001b[0m\u001b[0mkeys\u001b[0m\u001b[1;33m(\u001b[0m\u001b[1;33m)\u001b[0m\u001b[1;33m)\u001b[0m\u001b[1;33m)\u001b[0m\u001b[1;33m\u001b[0m\u001b[1;33m\u001b[0m\u001b[0m\n\u001b[0m",
      "\u001b[1;31mTypeError\u001b[0m: list indices must be integers or slices, not str"
     ]
    }
   ],
   "source": [
    "sentimentcount(annotatedpoke)"
   ]
  },
  {
   "cell_type": "code",
   "execution_count": 161,
   "metadata": {},
   "outputs": [],
   "source": [
    "finalsparagraph = ','.join(finalslines).replace(',', '. ')\n",
    "dliftparagraph = ','.join(dliftlines).replace(',', '. ')\n",
    "fakerparagraph = ','.join(fakerlines).replace(',', '. ')\n",
    "pokeparagraph = ','.join(pokelines).replace(',', '. ')"
   ]
  },
  {
   "cell_type": "code",
   "execution_count": 165,
   "metadata": {},
   "outputs": [],
   "source": [
    "annotatedfinalspara = nlp.annotate(pokeparagraph,\n",
    "                   properties={\n",
    "                       'annotators': 'sentiment, ner, pos',\n",
    "                       'outputFormat': 'json',\n",
    "                       'timeout': 1000,\n",
    "                   })"
   ]
  },
  {
   "cell_type": "code",
   "execution_count": 166,
   "metadata": {},
   "outputs": [
    {
     "name": "stdout",
     "output_type": "stream",
     "text": [
      "Request is too long to be handled by server: 2045469 characters. Max length is 100000 characters.\n"
     ]
    }
   ],
   "source": [
    "print(annotatedfinalspara)"
   ]
  },
  {
   "cell_type": "code",
   "execution_count": 186,
   "metadata": {},
   "outputs": [],
   "source": [
    "def get_sentiment(text):\n",
    "    res = nlp.annotate(text,\n",
    "                       properties={'annotators': 'sentiment',\n",
    "                                   'outputFormat': 'json',\n",
    "                                   'timeout': 1000,\n",
    "                       })\n",
    "#     print(text)\n",
    "    try:  \n",
    "#         print('Sentiment:', res['sentences'][0]['sentiment'])\n",
    "#         print('Sentiment score:', res['sentences'][0]['sentimentValue'])\n",
    "#         print('Sentiment distribution (0-v. negative, 5-v. positive:', res['sentences'][0]['sentimentDistribution'])\n",
    "       return res['sentences'][0]['sentimentValue']\n",
    "    except:\n",
    "        return '-1'"
   ]
  },
  {
   "cell_type": "code",
   "execution_count": 187,
   "metadata": {},
   "outputs": [],
   "source": [
    "finalsscores = []\n",
    "for i in range(0, len(finalslines)-1):\n",
    "    finalsscores.append(get_sentiment(finalslines[i]))\n"
   ]
  },
  {
   "cell_type": "code",
   "execution_count": 188,
   "metadata": {},
   "outputs": [],
   "source": [
    "pokescores = []\n",
    "for i in range(0, len(pokelines)-1):\n",
    "    pokescores.append(get_sentiment(pokelines[i]))"
   ]
  },
  {
   "cell_type": "code",
   "execution_count": null,
   "metadata": {},
   "outputs": [],
   "source": []
  }
 ],
 "metadata": {
  "kernelspec": {
   "display_name": "Python 3",
   "language": "python",
   "name": "python3"
  },
  "language_info": {
   "codemirror_mode": {
    "name": "ipython",
    "version": 3
   },
   "file_extension": ".py",
   "mimetype": "text/x-python",
   "name": "python",
   "nbconvert_exporter": "python",
   "pygments_lexer": "ipython3",
   "version": "3.7.4"
  },
  "pycharm": {
   "stem_cell": {
    "cell_type": "raw",
    "metadata": {
     "collapsed": false
    },
    "source": []
   }
  }
 },
 "nbformat": 4,
 "nbformat_minor": 1
}
